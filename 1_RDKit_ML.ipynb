{
 "cells": [
  {
   "cell_type": "code",
   "execution_count": 1,
   "id": "c36a58d1",
   "metadata": {},
   "outputs": [
    {
     "name": "stdout",
     "output_type": "stream",
     "text": [
      "2.0.1\n"
     ]
    },
    {
     "data": {
      "text/plain": [
       "ESOL(1128)"
      ]
     },
     "execution_count": 1,
     "metadata": {},
     "output_type": "execute_result"
    }
   ],
   "source": [
    "#Load in Data\n",
    "import torch\n",
    "print(torch.__version__)\n",
    "\n",
    "from torch_geometric.datasets import MoleculeNet\n",
    "data = MoleculeNet(root=\".\", name=\"ESOL\")\n",
    "data"
   ]
  },
  {
   "cell_type": "code",
   "execution_count": 2,
   "id": "3dfd51dc",
   "metadata": {},
   "outputs": [
    {
     "name": "stdout",
     "output_type": "stream",
     "text": [
      "Dataset Type:  <class 'torch_geometric.datasets.molecule_net.MoleculeNet'>\n",
      "Dataset Features:  9\n",
      "Dataset Target:  734\n",
      "Dataset Length:  <bound method InMemoryDataset.len of ESOL(1128)>\n",
      "Dataset Sample:  Data(x=[32, 9], edge_index=[2, 68], edge_attr=[68, 3], smiles='OCC3OC(OCC2OC(OC(C#N)c1ccccc1)C(O)C(O)C2O)C(O)C(O)C3O ', y=[1, 1])\n",
      "Sample Nodes:  32\n",
      "Sample Edges:  68\n"
     ]
    }
   ],
   "source": [
    "#Check data info\n",
    "print(\"Dataset Type: \", type(data))\n",
    "print(\"Dataset Features: \", data.num_features)\n",
    "print(\"Dataset Target: \", data.num_classes)\n",
    "print(\"Dataset Length: \", data.len)\n",
    "print(\"Dataset Sample: \", data[0])\n",
    "print(\"Sample Nodes: \", data[0].num_nodes)\n",
    "print(\"Sample Edges: \", data[0].num_edges)"
   ]
  },
  {
   "cell_type": "code",
   "execution_count": 136,
   "id": "44e8faa2",
   "metadata": {},
   "outputs": [
    {
     "data": {
      "text/plain": [
       "tensor([], size=(0, 9), dtype=torch.int64)"
      ]
     },
     "execution_count": 136,
     "metadata": {},
     "output_type": "execute_result"
    }
   ],
   "source": [
    "data.x"
   ]
  },
  {
   "cell_type": "code",
   "execution_count": 3,
   "id": "a9a8eac3",
   "metadata": {},
   "outputs": [
    {
     "data": {
      "text/html": [
       "<div>\n",
       "<style scoped>\n",
       "    .dataframe tbody tr th:only-of-type {\n",
       "        vertical-align: middle;\n",
       "    }\n",
       "\n",
       "    .dataframe tbody tr th {\n",
       "        vertical-align: top;\n",
       "    }\n",
       "\n",
       "    .dataframe thead th {\n",
       "        text-align: right;\n",
       "    }\n",
       "</style>\n",
       "<table border=\"1\" class=\"dataframe\">\n",
       "  <thead>\n",
       "    <tr style=\"text-align: right;\">\n",
       "      <th></th>\n",
       "      <th>node_rep</th>\n",
       "      <th>edge_rep</th>\n",
       "      <th>solubility</th>\n",
       "      <th>num_nodes</th>\n",
       "      <th>num_edges</th>\n",
       "      <th>smiles</th>\n",
       "    </tr>\n",
       "  </thead>\n",
       "  <tbody>\n",
       "    <tr>\n",
       "      <th>0</th>\n",
       "      <td>[[tensor(8), tensor(0), tensor(2), tensor(5), ...</td>\n",
       "      <td>[[tensor(0), tensor(1)], [tensor(1), tensor(0)...</td>\n",
       "      <td>[[tensor(-0.7700)]]</td>\n",
       "      <td>32</td>\n",
       "      <td>68</td>\n",
       "      <td>OCC3OC(OCC2OC(OC(C#N)c1ccccc1)C(O)C(O)C2O)C(O)...</td>\n",
       "    </tr>\n",
       "    <tr>\n",
       "      <th>1</th>\n",
       "      <td>[[tensor(6), tensor(0), tensor(4), tensor(5), ...</td>\n",
       "      <td>[[tensor(0), tensor(1)], [tensor(1), tensor(0)...</td>\n",
       "      <td>[[tensor(-3.3000)]]</td>\n",
       "      <td>15</td>\n",
       "      <td>32</td>\n",
       "      <td>Cc1occc1C(=O)Nc2ccccc2</td>\n",
       "    </tr>\n",
       "    <tr>\n",
       "      <th>2</th>\n",
       "      <td>[[tensor(6), tensor(0), tensor(4), tensor(5), ...</td>\n",
       "      <td>[[tensor(0), tensor(1)], [tensor(1), tensor(0)...</td>\n",
       "      <td>[[tensor(-2.0600)]]</td>\n",
       "      <td>11</td>\n",
       "      <td>20</td>\n",
       "      <td>CC(C)=CCCC(C)=CC(=O)</td>\n",
       "    </tr>\n",
       "    <tr>\n",
       "      <th>3</th>\n",
       "      <td>[[tensor(6), tensor(0), tensor(3), tensor(5), ...</td>\n",
       "      <td>[[tensor(0), tensor(1)], [tensor(0), tensor(5)...</td>\n",
       "      <td>[[tensor(-7.8700)]]</td>\n",
       "      <td>22</td>\n",
       "      <td>52</td>\n",
       "      <td>c1ccc2c(c1)ccc3c2ccc4c5ccccc5ccc43</td>\n",
       "    </tr>\n",
       "    <tr>\n",
       "      <th>4</th>\n",
       "      <td>[[tensor(6), tensor(0), tensor(3), tensor(5), ...</td>\n",
       "      <td>[[tensor(0), tensor(1)], [tensor(0), tensor(4)...</td>\n",
       "      <td>[[tensor(-1.3300)]]</td>\n",
       "      <td>5</td>\n",
       "      <td>10</td>\n",
       "      <td>c1ccsc1</td>\n",
       "    </tr>\n",
       "  </tbody>\n",
       "</table>\n",
       "</div>"
      ],
      "text/plain": [
       "                                            node_rep  \\\n",
       "0  [[tensor(8), tensor(0), tensor(2), tensor(5), ...   \n",
       "1  [[tensor(6), tensor(0), tensor(4), tensor(5), ...   \n",
       "2  [[tensor(6), tensor(0), tensor(4), tensor(5), ...   \n",
       "3  [[tensor(6), tensor(0), tensor(3), tensor(5), ...   \n",
       "4  [[tensor(6), tensor(0), tensor(3), tensor(5), ...   \n",
       "\n",
       "                                            edge_rep           solubility  \\\n",
       "0  [[tensor(0), tensor(1)], [tensor(1), tensor(0)...  [[tensor(-0.7700)]]   \n",
       "1  [[tensor(0), tensor(1)], [tensor(1), tensor(0)...  [[tensor(-3.3000)]]   \n",
       "2  [[tensor(0), tensor(1)], [tensor(1), tensor(0)...  [[tensor(-2.0600)]]   \n",
       "3  [[tensor(0), tensor(1)], [tensor(0), tensor(5)...  [[tensor(-7.8700)]]   \n",
       "4  [[tensor(0), tensor(1)], [tensor(0), tensor(4)...  [[tensor(-1.3300)]]   \n",
       "\n",
       "   num_nodes  num_edges                                             smiles  \n",
       "0         32         68  OCC3OC(OCC2OC(OC(C#N)c1ccccc1)C(O)C(O)C2O)C(O)...  \n",
       "1         15         32                             Cc1occc1C(=O)Nc2ccccc2  \n",
       "2         11         20                               CC(C)=CCCC(C)=CC(=O)  \n",
       "3         22         52                 c1ccc2c(c1)ccc3c2ccc4c5ccccc5ccc43  \n",
       "4          5         10                                            c1ccsc1  "
      ]
     },
     "execution_count": 3,
     "metadata": {},
     "output_type": "execute_result"
    }
   ],
   "source": [
    "#Load into dataframe\n",
    "import pandas as pd\n",
    "\n",
    "df_data = pd.DataFrame()\n",
    "df_data['node_rep'] = [sample.x for sample in data]\n",
    "df_data['edge_rep'] = [sample.edge_index.t() for sample in data]\n",
    "df_data['solubility'] = [sample.y for sample in data]\n",
    "df_data['num_nodes'] = [sample.num_nodes for sample in data]\n",
    "df_data['num_edges'] = [sample.num_edges for sample in data]\n",
    "df_data['smiles'] = [sample.smiles for sample in data]\n",
    "df_data.head(5)\n"
   ]
  },
  {
   "cell_type": "code",
   "execution_count": 4,
   "id": "d8f351a8",
   "metadata": {},
   "outputs": [
    {
     "name": "stdout",
     "output_type": "stream",
     "text": [
      "2020.03.2\n"
     ]
    }
   ],
   "source": [
    "#Augment with RDKit features\n",
    "import rdkit\n",
    "from rdkit import DataStructs\n",
    "from rdkit import Chem\n",
    "from rdkit.Chem import AllChem\n",
    "from rdkit.Chem import rdBase\n",
    "from rdkit.Chem import Draw\n",
    "from rdkit.Chem import PandasTools\n",
    "from rdkit.Chem.Draw import IPythonConsole\n",
    "from rdkit.Chem import Descriptors\n",
    "\n",
    "print(rdBase.rdkitVersion)\n"
   ]
  },
  {
   "cell_type": "code",
   "execution_count": 5,
   "id": "7520138c",
   "metadata": {},
   "outputs": [
    {
     "data": {
      "text/html": [
       "<div>\n",
       "<style scoped>\n",
       "    .dataframe tbody tr th:only-of-type {\n",
       "        vertical-align: middle;\n",
       "    }\n",
       "\n",
       "    .dataframe tbody tr th {\n",
       "        vertical-align: top;\n",
       "    }\n",
       "\n",
       "    .dataframe thead th {\n",
       "        text-align: right;\n",
       "    }\n",
       "</style>\n",
       "<table border=\"1\" class=\"dataframe\">\n",
       "  <thead>\n",
       "    <tr style=\"text-align: right;\">\n",
       "      <th></th>\n",
       "      <th>node_rep</th>\n",
       "      <th>edge_rep</th>\n",
       "      <th>solubility</th>\n",
       "      <th>num_nodes</th>\n",
       "      <th>num_edges</th>\n",
       "      <th>smiles</th>\n",
       "      <th>mol</th>\n",
       "      <th>mol_H</th>\n",
       "      <th>num_of_atoms</th>\n",
       "      <th>num_of_heavy_atoms</th>\n",
       "      <th>InChIKey</th>\n",
       "      <th>RDKit_FP</th>\n",
       "      <th>Morgan_FP</th>\n",
       "      <th>tpsa</th>\n",
       "      <th>mol_w</th>\n",
       "      <th>num_valence_electrons</th>\n",
       "      <th>num_heteroatoms</th>\n",
       "    </tr>\n",
       "  </thead>\n",
       "  <tbody>\n",
       "    <tr>\n",
       "      <th>0</th>\n",
       "      <td>[[tensor(8), tensor(0), tensor(2), tensor(5), ...</td>\n",
       "      <td>[[tensor(0), tensor(1)], [tensor(1), tensor(0)...</td>\n",
       "      <td>[[tensor(-0.7700)]]</td>\n",
       "      <td>32</td>\n",
       "      <td>68</td>\n",
       "      <td>OCC3OC(OCC2OC(OC(C#N)c1ccccc1)C(O)C(O)C2O)C(O)...</td>\n",
       "      <td>&lt;img data-content=\"rdkit/molecule\" src=\"data:i...</td>\n",
       "      <td>&lt;img data-content=\"rdkit/molecule\" src=\"data:i...</td>\n",
       "      <td>59</td>\n",
       "      <td>32</td>\n",
       "      <td>XUCIJNAGGSZNQT-UHFFFAOYSA-N</td>\n",
       "      <td>1111110011111111111111111101101111111111111111...</td>\n",
       "      <td>0100100000000100000000000000000000000000000001...</td>\n",
       "      <td>202.32</td>\n",
       "      <td>457.158411</td>\n",
       "      <td>178</td>\n",
       "      <td>12</td>\n",
       "    </tr>\n",
       "    <tr>\n",
       "      <th>1</th>\n",
       "      <td>[[tensor(6), tensor(0), tensor(4), tensor(5), ...</td>\n",
       "      <td>[[tensor(0), tensor(1)], [tensor(1), tensor(0)...</td>\n",
       "      <td>[[tensor(-3.3000)]]</td>\n",
       "      <td>15</td>\n",
       "      <td>32</td>\n",
       "      <td>Cc1occc1C(=O)Nc2ccccc2</td>\n",
       "      <td>&lt;img data-content=\"rdkit/molecule\" src=\"data:i...</td>\n",
       "      <td>&lt;img data-content=\"rdkit/molecule\" src=\"data:i...</td>\n",
       "      <td>26</td>\n",
       "      <td>15</td>\n",
       "      <td>JFSPBVWPKOEZCB-UHFFFAOYSA-N</td>\n",
       "      <td>0111110001101100111011100111111011101110111010...</td>\n",
       "      <td>0000000000000000000000000000000001000000000000...</td>\n",
       "      <td>42.24</td>\n",
       "      <td>201.078979</td>\n",
       "      <td>76</td>\n",
       "      <td>3</td>\n",
       "    </tr>\n",
       "    <tr>\n",
       "      <th>2</th>\n",
       "      <td>[[tensor(6), tensor(0), tensor(4), tensor(5), ...</td>\n",
       "      <td>[[tensor(0), tensor(1)], [tensor(1), tensor(0)...</td>\n",
       "      <td>[[tensor(-2.0600)]]</td>\n",
       "      <td>11</td>\n",
       "      <td>20</td>\n",
       "      <td>CC(C)=CCCC(C)=CC(=O)</td>\n",
       "      <td>&lt;img data-content=\"rdkit/molecule\" src=\"data:i...</td>\n",
       "      <td>&lt;img data-content=\"rdkit/molecule\" src=\"data:i...</td>\n",
       "      <td>27</td>\n",
       "      <td>11</td>\n",
       "      <td>WTEVQBCEXWBHNA-UHFFFAOYSA-N</td>\n",
       "      <td>0000000010000000000010001000000000000100100010...</td>\n",
       "      <td>0000000000000000000000000000100001000010000000...</td>\n",
       "      <td>17.07</td>\n",
       "      <td>152.120115</td>\n",
       "      <td>62</td>\n",
       "      <td>1</td>\n",
       "    </tr>\n",
       "    <tr>\n",
       "      <th>3</th>\n",
       "      <td>[[tensor(6), tensor(0), tensor(3), tensor(5), ...</td>\n",
       "      <td>[[tensor(0), tensor(1)], [tensor(0), tensor(5)...</td>\n",
       "      <td>[[tensor(-7.8700)]]</td>\n",
       "      <td>22</td>\n",
       "      <td>52</td>\n",
       "      <td>c1ccc2c(c1)ccc3c2ccc4c5ccccc5ccc43</td>\n",
       "      <td>&lt;img data-content=\"rdkit/molecule\" src=\"data:i...</td>\n",
       "      <td>&lt;img data-content=\"rdkit/molecule\" src=\"data:i...</td>\n",
       "      <td>36</td>\n",
       "      <td>22</td>\n",
       "      <td>GBROPGWFBFCKAG-UHFFFAOYSA-N</td>\n",
       "      <td>0010000000000000000001000100000000000000100000...</td>\n",
       "      <td>0000000000000000000000000000000000000100000000...</td>\n",
       "      <td>0.00</td>\n",
       "      <td>278.109550</td>\n",
       "      <td>102</td>\n",
       "      <td>0</td>\n",
       "    </tr>\n",
       "    <tr>\n",
       "      <th>4</th>\n",
       "      <td>[[tensor(6), tensor(0), tensor(3), tensor(5), ...</td>\n",
       "      <td>[[tensor(0), tensor(1)], [tensor(0), tensor(4)...</td>\n",
       "      <td>[[tensor(-1.3300)]]</td>\n",
       "      <td>5</td>\n",
       "      <td>10</td>\n",
       "      <td>c1ccsc1</td>\n",
       "      <td>&lt;img data-content=\"rdkit/molecule\" src=\"data:i...</td>\n",
       "      <td>&lt;img data-content=\"rdkit/molecule\" src=\"data:i...</td>\n",
       "      <td>9</td>\n",
       "      <td>5</td>\n",
       "      <td>YTPLMLYBLZKORZ-UHFFFAOYSA-N</td>\n",
       "      <td>0011000000000000010000000000000000000000000000...</td>\n",
       "      <td>0000000000000010000000000000000000000000000000...</td>\n",
       "      <td>0.00</td>\n",
       "      <td>84.003371</td>\n",
       "      <td>26</td>\n",
       "      <td>1</td>\n",
       "    </tr>\n",
       "  </tbody>\n",
       "</table>\n",
       "</div>"
      ],
      "text/plain": [
       "                                            node_rep  \\\n",
       "0  [[tensor(8), tensor(0), tensor(2), tensor(5), ...   \n",
       "1  [[tensor(6), tensor(0), tensor(4), tensor(5), ...   \n",
       "2  [[tensor(6), tensor(0), tensor(4), tensor(5), ...   \n",
       "3  [[tensor(6), tensor(0), tensor(3), tensor(5), ...   \n",
       "4  [[tensor(6), tensor(0), tensor(3), tensor(5), ...   \n",
       "\n",
       "                                            edge_rep           solubility  \\\n",
       "0  [[tensor(0), tensor(1)], [tensor(1), tensor(0)...  [[tensor(-0.7700)]]   \n",
       "1  [[tensor(0), tensor(1)], [tensor(1), tensor(0)...  [[tensor(-3.3000)]]   \n",
       "2  [[tensor(0), tensor(1)], [tensor(1), tensor(0)...  [[tensor(-2.0600)]]   \n",
       "3  [[tensor(0), tensor(1)], [tensor(0), tensor(5)...  [[tensor(-7.8700)]]   \n",
       "4  [[tensor(0), tensor(1)], [tensor(0), tensor(4)...  [[tensor(-1.3300)]]   \n",
       "\n",
       "   num_nodes  num_edges                                             smiles  \\\n",
       "0         32         68  OCC3OC(OCC2OC(OC(C#N)c1ccccc1)C(O)C(O)C2O)C(O)...   \n",
       "1         15         32                             Cc1occc1C(=O)Nc2ccccc2   \n",
       "2         11         20                               CC(C)=CCCC(C)=CC(=O)   \n",
       "3         22         52                 c1ccc2c(c1)ccc3c2ccc4c5ccccc5ccc43   \n",
       "4          5         10                                            c1ccsc1   \n",
       "\n",
       "                                                 mol  \\\n",
       "0  <img data-content=\"rdkit/molecule\" src=\"data:i...   \n",
       "1  <img data-content=\"rdkit/molecule\" src=\"data:i...   \n",
       "2  <img data-content=\"rdkit/molecule\" src=\"data:i...   \n",
       "3  <img data-content=\"rdkit/molecule\" src=\"data:i...   \n",
       "4  <img data-content=\"rdkit/molecule\" src=\"data:i...   \n",
       "\n",
       "                                               mol_H  num_of_atoms  \\\n",
       "0  <img data-content=\"rdkit/molecule\" src=\"data:i...            59   \n",
       "1  <img data-content=\"rdkit/molecule\" src=\"data:i...            26   \n",
       "2  <img data-content=\"rdkit/molecule\" src=\"data:i...            27   \n",
       "3  <img data-content=\"rdkit/molecule\" src=\"data:i...            36   \n",
       "4  <img data-content=\"rdkit/molecule\" src=\"data:i...             9   \n",
       "\n",
       "   num_of_heavy_atoms                     InChIKey  \\\n",
       "0                  32  XUCIJNAGGSZNQT-UHFFFAOYSA-N   \n",
       "1                  15  JFSPBVWPKOEZCB-UHFFFAOYSA-N   \n",
       "2                  11  WTEVQBCEXWBHNA-UHFFFAOYSA-N   \n",
       "3                  22  GBROPGWFBFCKAG-UHFFFAOYSA-N   \n",
       "4                   5  YTPLMLYBLZKORZ-UHFFFAOYSA-N   \n",
       "\n",
       "                                            RDKit_FP  \\\n",
       "0  1111110011111111111111111101101111111111111111...   \n",
       "1  0111110001101100111011100111111011101110111010...   \n",
       "2  0000000010000000000010001000000000000100100010...   \n",
       "3  0010000000000000000001000100000000000000100000...   \n",
       "4  0011000000000000010000000000000000000000000000...   \n",
       "\n",
       "                                           Morgan_FP    tpsa       mol_w  \\\n",
       "0  0100100000000100000000000000000000000000000001...  202.32  457.158411   \n",
       "1  0000000000000000000000000000000001000000000000...   42.24  201.078979   \n",
       "2  0000000000000000000000000000100001000010000000...   17.07  152.120115   \n",
       "3  0000000000000000000000000000000000000100000000...    0.00  278.109550   \n",
       "4  0000000000000010000000000000000000000000000000...    0.00   84.003371   \n",
       "\n",
       "   num_valence_electrons  num_heteroatoms  \n",
       "0                    178               12  \n",
       "1                     76                3  \n",
       "2                     62                1  \n",
       "3                    102                0  \n",
       "4                     26                1  "
      ]
     },
     "execution_count": 5,
     "metadata": {},
     "output_type": "execute_result"
    }
   ],
   "source": [
    "df_dataRDKit = df_data\n",
    "\n",
    "#Mol object\n",
    "df_dataRDKit['mol'] = df_dataRDKit['smiles'].apply(lambda x: Chem.MolFromSmiles(x,sanitize=True))\n",
    "df_dataRDKit['mol_H'] = df_dataRDKit['mol'].apply(lambda x: Chem.AddHs(x))\n",
    "df_dataRDKit['num_of_atoms'] = df_dataRDKit['mol_H'].apply(lambda x: x.GetNumAtoms())\n",
    "df_dataRDKit['num_of_heavy_atoms'] = df_dataRDKit['mol_H'].apply(lambda x: x.GetNumHeavyAtoms())\n",
    "\n",
    "#International Chemistry Identifier Key\n",
    "df_dataRDKit['InChIKey'] = df_dataRDKit['mol'].apply(lambda x: Chem.MolToInchiKey(x))\n",
    "\n",
    "#Fingerprints\n",
    "df_dataRDKit['RDKit_FP'] = df_dataRDKit['mol'].apply(lambda x: Chem.RDKFingerprint(x, maxPath=7,fpSize=512).ToBitString())\n",
    "df_dataRDKit['Morgan_FP'] = df_dataRDKit['mol'].apply(lambda x: AllChem.GetMorganFingerprintAsBitVect(x, 2, nBits=512).ToBitString())\n",
    "\n",
    "\n",
    "#Other features\n",
    "df_dataRDKit['tpsa'] = df_dataRDKit['mol_H'].apply(lambda x: Descriptors.TPSA(x))\n",
    "df_dataRDKit['mol_w'] = df_dataRDKit['mol_H'].apply(lambda x: Descriptors.ExactMolWt(x))\n",
    "df_dataRDKit['num_valence_electrons'] = df_dataRDKit['mol_H'].apply(lambda x: Descriptors.NumValenceElectrons(x))\n",
    "df_dataRDKit['num_heteroatoms'] = df_dataRDKit['mol_H'].apply(lambda x: Descriptors.NumHeteroatoms(x))\n",
    "\n",
    "\n",
    "df_dataRDKit.head()"
   ]
  },
  {
   "cell_type": "code",
   "execution_count": 6,
   "id": "6d0fd469",
   "metadata": {},
   "outputs": [
    {
     "name": "stdout",
     "output_type": "stream",
     "text": [
      "Train: 790 , Validation: 226 , Test: 112\n",
      "Check sum 1128 equals 1128\n"
     ]
    }
   ],
   "source": [
    "#Split into Train, Val, Test\n",
    "df_dataRDKit_shuffled = df_dataRDKit.sample(frac=1, random_state=1).reset_index()\n",
    "\n",
    "train_frac = 0.7\n",
    "val_frac = 0.2\n",
    "\n",
    "df_train = df_dataRDKit_shuffled.loc[:int(len(df_dataRDKit_shuffled)*train_frac)]\n",
    "df_val = df_dataRDKit_shuffled.loc[int(len(df_dataRDKit_shuffled)*train_frac)+1:int(len(df_dataRDKit_shuffled)*(train_frac+val_frac))]\n",
    "df_test = df_dataRDKit_shuffled.loc[int(len(df_dataRDKit_shuffled)*(train_frac+val_frac))+1:]\n",
    "\n",
    "print(\"Train:\",len(df_train),\", Validation:\",len(df_val),\", Test:\",len(df_test))\n",
    "print('Check sum',len(df_train)+len(df_val)+len(df_test),'equals',len(df_dataRDKit_shuffled))"
   ]
  },
  {
   "cell_type": "code",
   "execution_count": 7,
   "id": "605048a6",
   "metadata": {
    "scrolled": true
   },
   "outputs": [
    {
     "name": "stdout",
     "output_type": "stream",
     "text": [
      "Input: (790, 512)\n",
      "Input: (790, 512)\n",
      "Output: (790,)\n",
      "Input: (226, 512)\n",
      "Input: (226, 512)\n",
      "Output: (226,)\n",
      "Input: (112, 512)\n",
      "Input: (112, 512)\n",
      "Output: (112,)\n"
     ]
    }
   ],
   "source": [
    "#Formatting desired input fingerprints to numpy arrays\n",
    "import numpy as np\n",
    "\n",
    "def fingerprintToArray(fingerprint):\n",
    "    x_fp_features = fingerprint.values\n",
    "    x_fp_features_l = [list(map(int,list(fp))) for fp in x_fp_features]\n",
    "#     print('Samples:',len(x_fp_features_l), 'Features:',len(x_fp_features_l[0]) )\n",
    "    x_fp_features_a = np.asarray(x_fp_features_l) \n",
    "    print('Input:',x_fp_features_a.shape)\n",
    "    return x_fp_features_a\n",
    "\n",
    "def formatted(df):\n",
    "    features = df[['num_of_atoms','num_of_heavy_atoms', 'tpsa', 'mol_w', 'num_valence_electrons', 'num_heteroatoms']].values\n",
    "    RDKit_FP = fingerprintToArray(df['RDKit_FP'])\n",
    "    Morgan_FP = fingerprintToArray(df['Morgan_FP'])\n",
    "    solubility = np.asarray([tensor.item() for tensor in df['solubility'].values])\n",
    "    print('Output:',solubility.shape)\n",
    "    return features, RDKit_FP, Morgan_FP, solubility\n",
    "\n",
    "features_train, RDKitFP_train, MorganFP_train, solubility_train = formatted(df_train)\n",
    "features_val, RDKitFP_val, MorganFP_val, solubility_val = formatted(df_val)\n",
    "features_test, RDKitFP_test, MorganFP_test, solubility_test = formatted(df_test)\n"
   ]
  },
  {
   "cell_type": "code",
   "execution_count": null,
   "id": "c523aeff",
   "metadata": {},
   "outputs": [],
   "source": [
    "#The Task: Predict solubility from molecule info\n",
    "\n",
    "#Try with different representations: \n",
    "#RDKit_FP, Morgan_FP, Features, Graph Representation\n",
    "\n",
    "#Try with different model architectures: \n",
    "#Linear Regression, Ridge Regression, Lasso Regression, Multilayer Perceptron, Graph Convolutional Network \n"
   ]
  },
  {
   "cell_type": "code",
   "execution_count": 31,
   "id": "690ca78d",
   "metadata": {},
   "outputs": [
    {
     "name": "stdout",
     "output_type": "stream",
     "text": [
      "Linear Regression\n",
      "MSE: 3.1424381540413315 R2: 0.29914563409425543\n",
      "MSE: 6.857228086577389 R2: -0.5293596904392881\n",
      "MSE: 1.1922606291467523 R2: 0.734091483658825\n",
      "\n",
      " Ridge Regression\n",
      "MSE: 2.9007537170161486 R2: 0.35304823600950164\n",
      "MSE: 5.8928914702754644 R2: -0.31428480444072426\n",
      "MSE: 1.1922648130825084 R2: 0.7340905505204471\n",
      "\n",
      " Lasso Regression\n",
      "MSE: 1.4469216594863155 R2: 0.6772947270671309\n",
      "MSE: 2.3201422239825815 R2: 0.48254134926753156\n",
      "MSE: 1.2017075956862509 R2: 0.731984537580902\n"
     ]
    },
    {
     "data": {
      "image/png": "[encoded data removed]",
      "text/plain": [
       "<Figure size 432x288 with 1 Axes>"
      ]
     },
     "metadata": {
      "needs_background": "light"
     },
     "output_type": "display_data"
    },
    {
     "data": {
      "image/png": "[encoded data removed]",
      "text/plain": [
       "<Figure size 432x288 with 1 Axes>"
      ]
     },
     "metadata": {
      "needs_background": "light"
     },
     "output_type": "display_data"
    },
    {
     "data": {
      "image/png": "[encoded data removed]",
      "text/plain": [
       "<Figure size 432x288 with 1 Axes>"
      ]
     },
     "metadata": {
      "needs_background": "light"
     },
     "output_type": "display_data"
    }
   ],
   "source": [
    "#Linear Regression Models\n",
    "\n",
    "from sklearn.linear_model import LinearRegression\n",
    "from sklearn.linear_model import Lasso\n",
    "from sklearn.linear_model import Ridge\n",
    "from sklearn.metrics import mean_squared_error\n",
    "from sklearn.metrics import r2_score\n",
    "import matplotlib.pyplot as plt\n",
    "\n",
    "def regressionModel(model, x_train, y_train, x_test, y_test): \n",
    "    model.fit(x_train, y_train)\n",
    "    predictions = model.predict(x_test)\n",
    "    plt.scatter(y_test,predictions)\n",
    "    plt.xlim(-10, 3)\n",
    "    plt.ylim(-10, 3)\n",
    "\n",
    "    print('MSE:',mean_squared_error(y_test,predictions),'R2:',r2_score(y_test,predictions))\n",
    "\n",
    "#Linear Regression\n",
    "print('Linear Regression')\n",
    "fig,ax = plt.subplots()\n",
    "plt.xlabel(\"Real Solubility\")\n",
    "plt.ylabel(\"Predicted Solubility\")\n",
    "regressionModel(LinearRegression(), RDKitFP_train,solubility_train,RDKitFP_test,solubility_test)\n",
    "regressionModel(LinearRegression(), MorganFP_train,solubility_train,MorganFP_test,solubility_test)\n",
    "regressionModel(LinearRegression(), features_train,solubility_train,features_test,solubility_test)\n",
    "ax.legend(['RDKit Fingerprint', 'Morgan Fingerprint', 'Selected Features'])\n",
    "ax.set_aspect('equal', adjustable='box')\n",
    "ax.set_box_aspect(1)\n",
    "\n",
    "#Ridge Regression - penalize squared magnitudes of coefficients\n",
    "print('\\n Ridge Regression')\n",
    "fig1,ax1 = plt.subplots()\n",
    "plt.xlabel(\"Real Solubility\")\n",
    "plt.ylabel(\"Predicted Solubility\")\n",
    "regressionModel(Ridge(alpha = 0.05), RDKitFP_train,solubility_train,RDKitFP_test,solubility_test)\n",
    "regressionModel(Ridge(alpha = 0.05), MorganFP_train,solubility_train,MorganFP_test,solubility_test)\n",
    "regressionModel(Ridge(alpha = 0.05), features_train,solubility_train,features_test,solubility_test)\n",
    "ax1.legend(['RDKit Fingerprint', 'Morgan Fingerprint', 'Selected Features'])\n",
    "ax1.set_aspect('equal', adjustable='box')\n",
    "ax1.set_box_aspect(1)\n",
    "\n",
    "#Lasso Regression - penalize abs value magnitudes of coefficients\n",
    "print('\\n Lasso Regression')\n",
    "fig2,ax2 = plt.subplots()\n",
    "plt.xlabel(\"Real Solubility\")\n",
    "plt.ylabel(\"Predicted Solubility\")\n",
    "regressionModel(Lasso(alpha = 0.05), RDKitFP_train,solubility_train,RDKitFP_test,solubility_test)\n",
    "regressionModel(Lasso(alpha = 0.05), MorganFP_train,solubility_train,MorganFP_test,solubility_test)\n",
    "regressionModel(Lasso(alpha = 0.05), features_train,solubility_train,features_test,solubility_test)\n",
    "ax2.legend(['RDKit Fingerprint', 'Morgan Fingerprint', 'Selected Features'])\n",
    "ax2.set_aspect('equal', adjustable='box')\n",
    "ax2.set_box_aspect(1)"
   ]
  },
  {
   "cell_type": "code",
   "execution_count": 103,
   "id": "479dea87",
   "metadata": {},
   "outputs": [],
   "source": [
    "#Neural Network - Multi Layer Perceptron ------------------------------------------------------------------\n",
    "import torch\n",
    "from torch.nn import Linear\n",
    "from torch.nn import functional as F\n"
   ]
  },
  {
   "cell_type": "code",
   "execution_count": 104,
   "id": "154f1826",
   "metadata": {},
   "outputs": [],
   "source": [
    "#Prepping data into pytorch DataLoader\n",
    "from torch_geometric.data import DataLoader\n",
    "\n",
    "class MyDataset():\n",
    "    def __init__(self,features, labels):\n",
    "        self.x = torch.from_numpy(np.asarray(features))\n",
    "        self.y = torch.from_numpy(np.asarray(labels))\n",
    " \n",
    "    def __len__(self):\n",
    "        return len(self.y)\n",
    "   \n",
    "    def __getitem__(self,idx):\n",
    "        return self.x[idx],self.y[idx]\n",
    "\n",
    "torch.manual_seed(123456)\n",
    "RDKit_data_loaded = MyDataset(RDKitFP_train,solubility_train)\n",
    "RDKit_loader = DataLoader(data_loaded, batch_size = batch_size, shuffle = True)\n",
    "\n",
    "Morgan_data_loaded = MyDataset(MorganFP_train,solubility_train)\n",
    "Morgan_loader = DataLoader(Morgan_data_loaded, batch_size = batch_size, shuffle = True)\n",
    "\n",
    "features_data_loaded = MyDataset(features_train,solubility_train)\n",
    "features_loader = DataLoader(features_data_loaded, batch_size = batch_size, shuffle = True)\n"
   ]
  },
  {
   "cell_type": "code",
   "execution_count": 109,
   "id": "dfaa0334",
   "metadata": {},
   "outputs": [
    {
     "name": "stdout",
     "output_type": "stream",
     "text": [
      "MLP(\n",
      "  (dense1): Linear(in_features=512, out_features=128, bias=True)\n",
      "  (dense2): Linear(in_features=128, out_features=32, bias=True)\n",
      "  (out): Linear(in_features=32, out_features=1, bias=True)\n",
      ")\n",
      "Number of Parameters:  69825\n"
     ]
    }
   ],
   "source": [
    "#Define the model - PyTorch\n",
    "\n",
    "class MLP(torch.nn.Module):\n",
    "    def __init__(self):\n",
    "        super(MLP,self).__init__()\n",
    "        torch.manual_seed(123456)\n",
    "                \n",
    "        self.dense1 = Linear(512,128)\n",
    "        self.dense2 = Linear(128,32)\n",
    "        self.out = Linear(32, 1)\n",
    "        \n",
    "        torch.nn.init.xavier_uniform(self.dense1.weight)\n",
    "        torch.nn.init.xavier_uniform(self.dense2.weight)\n",
    "        torch.nn.init.xavier_uniform(self.out.weight)\n",
    "    \n",
    "    def forward(self, x):\n",
    "        hidden = self.dense1(x)\n",
    "        hidden = F.relu(hidden)\n",
    "        \n",
    "        hidden = self.dense2(hidden)\n",
    "        hidden = F.relu(hidden)\n",
    "        \n",
    "        out = self.out(hidden)\n",
    "        return out\n",
    "    \n",
    "RDKit_MLP = MLP()\n",
    "Morgan_MLP = MLP()\n",
    "features_MLP = MLP()\n",
    "print(RDKit_MLP)\n",
    "print(\"Number of Parameters: \", sum(p.numel() for p in RDKit_MLP.parameters()))\n",
    "    \n",
    "#Set GPU usage \n",
    "device = torch.device('cuda:0' if torch.cuda.is_available() else 'cpu')\n",
    "RDKit_MLP = RDKit_MLP.to(device)   \n",
    "Morgan_MLP = features_MLP.to(device)   \n",
    "features_MLP = features_MLP.to(device)  "
   ]
  },
  {
   "cell_type": "code",
   "execution_count": 118,
   "id": "9457b60f",
   "metadata": {},
   "outputs": [
    {
     "name": "stdout",
     "output_type": "stream",
     "text": [
      "MLP_f(\n",
      "  (dense1): Linear(in_features=6, out_features=512, bias=True)\n",
      "  (dense2): Linear(in_features=512, out_features=128, bias=True)\n",
      "  (out): Linear(in_features=128, out_features=1, bias=True)\n",
      ")\n",
      "Number of Parameters:  69377\n"
     ]
    }
   ],
   "source": [
    "#Define the model - PyTorch\n",
    "\n",
    "class MLP_f(torch.nn.Module):\n",
    "    def __init__(self):\n",
    "        super(MLP_f,self).__init__()\n",
    "        torch.manual_seed(123456)\n",
    "                \n",
    "        self.dense1 = Linear(6,512)\n",
    "        self.dense2 = Linear(512,128)\n",
    "        self.out = Linear(128, 1)\n",
    "        \n",
    "        torch.nn.init.xavier_uniform(self.dense1.weight)\n",
    "        torch.nn.init.xavier_uniform(self.dense2.weight)\n",
    "        torch.nn.init.xavier_uniform(self.out.weight)\n",
    "        \n",
    "    \n",
    "    def forward(self, x):\n",
    "        hidden = self.dense1(x)\n",
    "        hidden = F.relu(hidden)\n",
    "        \n",
    "        hidden = self.dense2(hidden)\n",
    "        hidden = F.relu(hidden)\n",
    "        \n",
    "        out = self.out(hidden)\n",
    "        return out\n",
    "\n",
    "features_MLP = MLP_f()\n",
    "\n",
    "print(features_MLP)\n",
    "print(\"Number of Parameters: \", sum(p.numel() for p in features_MLP.parameters()))\n",
    "    \n",
    "#Set GPU usage \n",
    "device = torch.device('cuda:0' if torch.cuda.is_available() else 'cpu')\n",
    "features_MLP = features_MLP.to(device)   "
   ]
  },
  {
   "cell_type": "code",
   "execution_count": 111,
   "id": "284f1c6e",
   "metadata": {},
   "outputs": [
    {
     "name": "stdout",
     "output_type": "stream",
     "text": [
      "Starting Training...\n",
      "Epoch 0 | Train Loss 1.3581650257110596\n",
      "Epoch 100 | Train Loss 0.07384604215621948\n",
      "Epoch 200 | Train Loss 0.09682191908359528\n",
      "Epoch 300 | Train Loss 0.28746506571769714\n",
      "Epoch 400 | Train Loss 0.0031306964810937643\n",
      "Epoch 500 | Train Loss 0.01180122047662735\n",
      "Epoch 600 | Train Loss 0.1612934023141861\n",
      "Epoch 700 | Train Loss 0.014946779236197472\n",
      "Epoch 800 | Train Loss 0.04752140864729881\n",
      "Epoch 900 | Train Loss 0.03316507115960121\n"
     ]
    },
    {
     "data": {
      "text/plain": [
       "[<matplotlib.lines.Line2D at 0x18f99853970>]"
      ]
     },
     "execution_count": 111,
     "metadata": {},
     "output_type": "execute_result"
    },
    {
     "data": {
      "image/png": "[encoded data removed]",
      "text/plain": [
       "<Figure size 432x288 with 1 Axes>"
      ]
     },
     "metadata": {
      "needs_background": "light"
     },
     "output_type": "display_data"
    }
   ],
   "source": [
    "#Training parameters\n",
    "training_epochs = 1000\n",
    "batch_size = 64\n",
    "loss_fn = torch.nn.MSELoss()\n",
    "optimizer = torch.optim.Adam(RDKit_MLP.parameters(), lr=0.001)\n",
    "\n",
    "#Train RDKit\n",
    "print('Starting Training...')\n",
    "RDKit_MLP_losses = []\n",
    "for epoch in range(training_epochs):\n",
    "    for batch in RDKit_loader:\n",
    "        batchx = batch[0].to(device)\n",
    "        batchy = batch[1].to(device)\n",
    "        optimizer.zero_grad()\n",
    "        pred = RDKit_MLP(batchx.float())[:,0]\n",
    "        loss = loss_fn(pred, batchy.float())\n",
    "        loss.backward()\n",
    "        optimizer.step()\n",
    "    RDKit_MLP_losses.append(loss)\n",
    "    if epoch % 100 == 0: #every 100 epochs print status\n",
    "        print(f\"Epoch {epoch} | Train Loss {loss}\")\n",
    "        \n",
    "RDKit_losses_indices = [i for i,l in enumerate(RDKit_MLP_losses)]\n",
    "plt.plot(RDKit_losses_indices,np.log(RDKit_MLP_losses))"
   ]
  },
  {
   "cell_type": "code",
   "execution_count": 112,
   "id": "309b0901",
   "metadata": {},
   "outputs": [
    {
     "name": "stdout",
     "output_type": "stream",
     "text": [
      "Starting Training...\n",
      "Epoch 0 | Train Loss 4.857322692871094\n",
      "Epoch 100 | Train Loss 0.014145087450742722\n",
      "Epoch 200 | Train Loss 0.06097373738884926\n",
      "Epoch 300 | Train Loss 0.006155825685709715\n",
      "Epoch 400 | Train Loss 0.008475606329739094\n",
      "Epoch 500 | Train Loss 0.0025726770982146263\n",
      "Epoch 600 | Train Loss 0.023992517963051796\n",
      "Epoch 700 | Train Loss 0.004342054482549429\n",
      "Epoch 800 | Train Loss 0.0032041866797953844\n",
      "Epoch 900 | Train Loss 0.0014108478790149093\n"
     ]
    },
    {
     "data": {
      "text/plain": [
       "[<matplotlib.lines.Line2D at 0x18f9c6924c0>]"
      ]
     },
     "execution_count": 112,
     "metadata": {},
     "output_type": "execute_result"
    },
    {
     "data": {
      "image/png": "[encoded data removed]",
      "text/plain": [
       "<Figure size 432x288 with 1 Axes>"
      ]
     },
     "metadata": {
      "needs_background": "light"
     },
     "output_type": "display_data"
    }
   ],
   "source": [
    "#Training parameters\n",
    "training_epochs = 1000\n",
    "batch_size = 64\n",
    "loss_fn = torch.nn.MSELoss()\n",
    "m_optimizer = torch.optim.Adam(Morgan_MLP.parameters(), lr=0.001)\n",
    "\n",
    "#Train Morgan\n",
    "print('Starting Training...')\n",
    "Morgan_MLP_losses = []\n",
    "for epoch in range(training_epochs):\n",
    "    for batch in Morgan_loader:\n",
    "        batchx = batch[0].to(device)\n",
    "        batchy = batch[1].to(device)\n",
    "        m_optimizer.zero_grad()\n",
    "        pred = Morgan_MLP(batchx.float())[:,0]\n",
    "        loss = loss_fn(pred, batchy.float())\n",
    "        loss.backward()\n",
    "        m_optimizer.step()\n",
    "    Morgan_MLP_losses.append(loss)\n",
    "    if epoch % 100 == 0: #every 100 epochs print status\n",
    "        print(f\"Epoch {epoch} | Train Loss {loss}\")\n",
    "        \n",
    "Morgan_losses_indices = [i for i,l in enumerate(Morgan_MLP_losses)]\n",
    "plt.plot(Morgan_losses_indices,np.log(Morgan_MLP_losses))\n"
   ]
  },
  {
   "cell_type": "code",
   "execution_count": 119,
   "id": "c4d22e76",
   "metadata": {},
   "outputs": [
    {
     "name": "stdout",
     "output_type": "stream",
     "text": [
      "Starting Training...\n",
      "Epoch 0 | Train Loss 1.4532610177993774\n",
      "Epoch 100 | Train Loss 0.8463696837425232\n",
      "Epoch 200 | Train Loss 0.7218162417411804\n",
      "Epoch 300 | Train Loss 0.9485329985618591\n",
      "Epoch 400 | Train Loss 0.9600871205329895\n",
      "Epoch 500 | Train Loss 0.629111111164093\n",
      "Epoch 600 | Train Loss 1.001108169555664\n",
      "Epoch 700 | Train Loss 0.33664676547050476\n",
      "Epoch 800 | Train Loss 0.493818998336792\n",
      "Epoch 900 | Train Loss 0.9936416149139404\n"
     ]
    },
    {
     "data": {
      "text/plain": [
       "[<matplotlib.lines.Line2D at 0x18f9c6ab4c0>]"
      ]
     },
     "execution_count": 119,
     "metadata": {},
     "output_type": "execute_result"
    },
    {
     "data": {
      "image/png": "[encoded data removed]",
      "text/plain": [
       "<Figure size 432x288 with 1 Axes>"
      ]
     },
     "metadata": {
      "needs_background": "light"
     },
     "output_type": "display_data"
    }
   ],
   "source": [
    "#Training parameters\n",
    "training_epochs = 1000\n",
    "batch_size = 64\n",
    "loss_fn = torch.nn.MSELoss()\n",
    "f_optimizer = torch.optim.Adam(features_MLP.parameters(), lr=0.001)\n",
    "\n",
    "#Train features\n",
    "print('Starting Training...')\n",
    "features_MLP_losses = []\n",
    "for epoch in range(training_epochs):\n",
    "    for batch in features_loader:\n",
    "        batchx = batch[0].to(device)\n",
    "        batchy = batch[1].to(device)\n",
    "        f_optimizer.zero_grad()\n",
    "        pred = features_MLP(batchx.float())[:,0]\n",
    "        loss = loss_fn(pred, batchy.float())\n",
    "        loss.backward()\n",
    "        f_optimizer.step()\n",
    "    features_MLP_losses.append(loss)\n",
    "    if epoch % 100 == 0: #every 100 epochs print status\n",
    "        print(f\"Epoch {epoch} | Train Loss {loss}\")\n",
    "        \n",
    "features_losses_indices = [i for i,l in enumerate(features_MLP_losses)]\n",
    "plt.plot(features_losses_indices,np.log(features_MLP_losses))"
   ]
  },
  {
   "cell_type": "code",
   "execution_count": 242,
   "id": "130723e3",
   "metadata": {},
   "outputs": [
    {
     "name": "stdout",
     "output_type": "stream",
     "text": [
      "MSE: 0.8088012538874937 R2: 0.819613986926651\n",
      "MSE: 1.339006618979205 R2: 0.7013628943877943\n",
      "MSE: 0.5576227002586007 R2: 0.875634050744392\n"
     ]
    },
    {
     "data": {
      "image/png": "[encoded data removed]",
      "text/plain": [
       "<Figure size 432x288 with 1 Axes>"
      ]
     },
     "metadata": {
      "needs_background": "light"
     },
     "output_type": "display_data"
    }
   ],
   "source": [
    "#Predicting data\n",
    "\n",
    "def visualizePredictions(model, x, y):\n",
    "    model.to(device)\n",
    "    with torch.no_grad():\n",
    "        prediction = model(torch.from_numpy(x).to(device).float())\n",
    "    prediction = prediction.cpu()\n",
    "    plt.scatter(y,prediction)\n",
    "    plt.xlim(-10, 3)\n",
    "    plt.ylim(-10, 3)\n",
    "    print('MSE:',mean_squared_error(y,prediction),'R2:',r2_score(y,prediction))\n",
    "\n",
    "fig,ax = plt.subplots()\n",
    "plt.xlabel(\"Real Solubility\")\n",
    "plt.ylabel(\"Predicted Solubility\")\n",
    "visualizePredictions(RDKit_MLP, RDKitFP_test, solubility_test)\n",
    "visualizePredictions(Morgan_MLP, MorganFP_test, solubility_test)\n",
    "visualizePredictions(features_MLP, features_test, solubility_test)\n",
    "ax.legend(['RDKit Fingerprint','Morgan Fingerprint','Selected Features'])\n",
    "ax.set_aspect('equal', adjustable='box')\n",
    "ax.set_box_aspect(1)"
   ]
  },
  {
   "cell_type": "code",
   "execution_count": 123,
   "id": "0be39040",
   "metadata": {},
   "outputs": [],
   "source": [
    "#Graph Convolutional Neural Network\n",
    "#Take in node representation and edge representation\n",
    "#embed, message pass, pool, then linear output\n",
    "\n",
    "from torch.nn import Linear\n",
    "import torch.nn.functional as F\n",
    "from torch_geometric.nn import GCNConv, TopKPooling, global_mean_pool\n",
    "from torch_geometric.nn import global_mean_pool as gap, global_max_pool as gmp"
   ]
  },
  {
   "cell_type": "code",
   "execution_count": 236,
   "id": "75435d22",
   "metadata": {},
   "outputs": [
    {
     "name": "stdout",
     "output_type": "stream",
     "text": [
      "GCN(\n",
      "  (initial_conv): GCNConv(9, 64)\n",
      "  (conv1): GCNConv(64, 64)\n",
      "  (conv2): GCNConv(64, 64)\n",
      "  (conv3): GCNConv(64, 64)\n",
      "  (out): Linear(in_features=128, out_features=1, bias=True)\n",
      ")\n",
      "Number of Parameters:  13249\n"
     ]
    }
   ],
   "source": [
    "####Define Model\n",
    "\n",
    "embedding_size = 64\n",
    "\n",
    "class GCN(torch.nn.Module):\n",
    "    def __init__(self):\n",
    "        #init parent\n",
    "        super(GCN, self).__init__()\n",
    "        torch.manual_seed(42)\n",
    "        \n",
    "        #GCN layers\n",
    "        #Input Layer\n",
    "        self.initial_conv = GCNConv(data.num_features, embedding_size) #takes in num_features and outputs to embedding size\n",
    "        \n",
    "        #Hidden Layers\n",
    "        self.conv1 = GCNConv(embedding_size, embedding_size)        \n",
    "        self.conv2 = GCNConv(embedding_size, embedding_size)\n",
    "        self.conv3 = GCNConv(embedding_size, embedding_size)        \n",
    "        \n",
    "        #Output Layer\n",
    "        self.out = Linear(embedding_size*2, 1) #because using both global average pooling and global max pooling\n",
    "    \n",
    "    def forward(self, x, edge_index, batch_index):\n",
    "        #First Conv Layer\n",
    "        hidden = self.initial_conv(x, edge_index) #x=atom features, edge_index=bond connectivity\n",
    "        hidden = F.tanh(hidden) #activation\n",
    "        \n",
    "        #Hidden Layers\n",
    "        hidden = self.conv1(hidden, edge_index) \n",
    "        hidden = F.tanh(hidden)\n",
    "        hidden = self.conv2(hidden, edge_index) \n",
    "        hidden = F.tanh(hidden)\n",
    "        hidden = self.conv3(hidden, edge_index) \n",
    "        hidden = F.tanh(hidden) \n",
    "        \n",
    "        #Global Pooling (stack different aggregations)\n",
    "        hidden = torch.cat([gmp(hidden, batch_index), gap(hidden, batch_index)], dim = 1)\n",
    "        \n",
    "        #Linear Classifier Output\n",
    "        out = self.out(hidden)\n",
    "        \n",
    "        return out, hidden\n",
    "\n",
    "graph_model = GCN()\n",
    "print(graph_model)\n",
    "print(\"Number of Parameters: \", sum(p.numel() for p in graph_model.parameters()))\n",
    "        \n",
    "#Set GPU usage \n",
    "device = torch.device('cuda:0' if torch.cuda.is_available() else 'cpu')\n",
    "graph_model = graph_model.to(device)"
   ]
  },
  {
   "cell_type": "code",
   "execution_count": 237,
   "id": "85e45934",
   "metadata": {},
   "outputs": [],
   "source": [
    "####Define Training\n",
    "\n",
    "#root mean squared error\n",
    "loss_fn = torch.nn.MSELoss()\n",
    "optimizer = torch.optim.Adam(graph_model.parameters(), lr=0.001)\n",
    "\n",
    "#Wrap data in a data loader\n",
    "data_size = len(data)\n",
    "NUM_GRAPHS_PER_BATCH = 32\n",
    "loader = DataLoader(data[:int(data_size * 0.7)], batch_size=NUM_GRAPHS_PER_BATCH, shuffle = False)\n",
    "test_loader = DataLoader(data[int(data_size * 0.7):int(data_size * 0.9)], batch_size=NUM_GRAPHS_PER_BATCH, shuffle = False)\n",
    "\n",
    "def train(data):\n",
    "    #Enumerate over the data\n",
    "    for batch in loader:\n",
    "        #Use GPU\n",
    "        batch.to(device)\n",
    "        #Reset gradients\n",
    "        optimizer.zero_grad()\n",
    "        #Pass node features and connection info\n",
    "        pred, embedding = graph_model(batch.x.float(), batch.edge_index, batch.batch)\n",
    "        #Calculate loss and gradients\n",
    "        loss = loss_fn(pred, batch.y)\n",
    "        loss.backward()\n",
    "        #Update using the gradients\n",
    "        optimizer.step()\n",
    "    return loss, embedding\n"
   ]
  },
  {
   "cell_type": "code",
   "execution_count": 238,
   "id": "cf98e2b5",
   "metadata": {},
   "outputs": [
    {
     "name": "stdout",
     "output_type": "stream",
     "text": [
      "Starting Training...\n",
      "Epoch 0 | Train Loss 6.449708461761475\n",
      "Epoch 100 | Train Loss 1.5752767324447632\n",
      "Epoch 200 | Train Loss 0.9239583611488342\n",
      "Epoch 300 | Train Loss 0.5815558433532715\n",
      "Epoch 400 | Train Loss 0.3738369643688202\n",
      "Epoch 500 | Train Loss 0.26958993077278137\n",
      "Epoch 600 | Train Loss 0.30123013257980347\n",
      "Epoch 700 | Train Loss 0.2189815491437912\n",
      "Epoch 800 | Train Loss 0.14544418454170227\n",
      "Epoch 900 | Train Loss 0.1866963803768158\n",
      "Epoch 1000 | Train Loss 0.15725968778133392\n",
      "Epoch 1100 | Train Loss 0.1394113451242447\n",
      "Epoch 1200 | Train Loss 0.13512124121189117\n",
      "Epoch 1300 | Train Loss 0.13267602026462555\n",
      "Epoch 1400 | Train Loss 0.14534591138362885\n",
      "Epoch 1500 | Train Loss 0.08566266298294067\n",
      "Epoch 1600 | Train Loss 0.0935586616396904\n",
      "Epoch 1700 | Train Loss 0.09596763551235199\n",
      "Epoch 1800 | Train Loss 0.10263343155384064\n",
      "Epoch 1900 | Train Loss 0.09409704804420471\n"
     ]
    },
    {
     "data": {
      "text/plain": [
       "[<matplotlib.lines.Line2D at 0x18fb1b00280>]"
      ]
     },
     "execution_count": 238,
     "metadata": {},
     "output_type": "execute_result"
    },
    {
     "data": {
      "image/png": "[encoded data removed]",
      "text/plain": [
       "<Figure size 432x288 with 1 Axes>"
      ]
     },
     "metadata": {
      "needs_background": "light"
     },
     "output_type": "display_data"
    }
   ],
   "source": [
    "print('Starting Training...')\n",
    "losses = []\n",
    "training_epochs = 2000\n",
    "for epoch in range(training_epochs):\n",
    "    loss, h = train(data)\n",
    "    losses.append(loss)\n",
    "    if epoch % 100 == 0: #every 100 epochs print status\n",
    "        print(f\"Epoch {epoch} | Train Loss {loss}\")\n",
    "\n",
    "losses_indices = [i for i,l in enumerate(losses)]\n",
    "plt.plot(losses_indices,np.log(losses))\n"
   ]
  },
  {
   "cell_type": "code",
   "execution_count": 241,
   "id": "a993f434",
   "metadata": {},
   "outputs": [
    {
     "name": "stdout",
     "output_type": "stream",
     "text": [
      "MSE: 0.8286297034514624 R2: 0.827479477742292\n"
     ]
    },
    {
     "data": {
      "image/png": "[encoded data removed]",
      "text/plain": [
       "<Figure size 432x288 with 1 Axes>"
      ]
     },
     "metadata": {
      "needs_background": "light"
     },
     "output_type": "display_data"
    }
   ],
   "source": [
    "# Predicting data\n",
    "test_y = []\n",
    "test_pred = []\n",
    "\n",
    "with torch.no_grad(): #predicting now, no more training\n",
    "    for test_batch in test_loader:\n",
    "        test_batch.to(device)\n",
    "        pred, embed = graph_model(test_batch.x.float(), test_batch.edge_index, test_batch.batch)\n",
    "        test_y.extend(test_batch.y.tolist())\n",
    "        test_pred.extend(pred.tolist())\n",
    "\n",
    "fig,ax = plt.subplots()\n",
    "plt.xlabel(\"Real Solubility\")\n",
    "plt.ylabel(\"Predicted Solubility\")        \n",
    "plt.scatter(test_y, test_pred)\n",
    "plt.xlim(-10, 3)\n",
    "plt.ylim(-10, 3)\n",
    "print('MSE:',mean_squared_error(test_y, test_pred),'R2:',r2_score(test_y, test_pred))\n",
    "ax.set_aspect('equal', adjustable='box')\n",
    "ax.set_box_aspect(1)"
   ]
  },
  {
   "cell_type": "code",
   "execution_count": null,
   "id": "64db4384",
   "metadata": {},
   "outputs": [],
   "source": []
  }
 ],
 "metadata": {
  "kernelspec": {
   "display_name": "Python 3 (ipykernel)",
   "language": "python",
   "name": "python3"
  },
  "language_info": {
   "codemirror_mode": {
    "name": "ipython",
    "version": 3
   },
   "file_extension": ".py",
   "mimetype": "text/x-python",
   "name": "python",
   "nbconvert_exporter": "python",
   "pygments_lexer": "ipython3",
   "version": "3.8.12"
  }
 },
 "nbformat": 4,
 "nbformat_minor": 5
}
